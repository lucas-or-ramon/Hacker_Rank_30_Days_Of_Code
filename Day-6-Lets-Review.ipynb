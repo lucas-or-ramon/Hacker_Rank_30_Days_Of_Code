{
 "cells": [
  {
   "cell_type": "markdown",
   "metadata": {},
   "source": [
    "#### Today we're expanding our knowledge of Strings and combining it with what we've already learned about loops"
   ]
  },
  {
   "cell_type": "code",
   "execution_count": null,
   "metadata": {},
   "outputs": [],
   "source": [
    "# Enter your code here. Read input from STDIN. Print output to STDOUT\n",
    "vezes = int(input())\n",
    "strings = ['']*vezes\n",
    "\n",
    "for i in range(vezes): strings[i] = input()\n",
    "\n",
    "par, impar = '',''\n",
    "\n",
    "for string in strings:\n",
    "    for i in range(0, len(string), 2): par += string[i]\n",
    "    for i in range(1, len(string), 2): impar += string[i]\n",
    "    print(f'{par} {impar}')\n",
    "    par, impar = '',''"
   ]
  },
  {
   "cell_type": "code",
   "execution_count": null,
   "metadata": {},
   "outputs": [],
   "source": []
  }
 ],
 "metadata": {
  "kernelspec": {
   "display_name": "Python 3",
   "language": "python",
   "name": "python3"
  },
  "language_info": {
   "codemirror_mode": {
    "name": "ipython",
    "version": 3
   },
   "file_extension": ".py",
   "mimetype": "text/x-python",
   "name": "python",
   "nbconvert_exporter": "python",
   "pygments_lexer": "ipython3",
   "version": "3.6.5"
  }
 },
 "nbformat": 4,
 "nbformat_minor": 2
}
